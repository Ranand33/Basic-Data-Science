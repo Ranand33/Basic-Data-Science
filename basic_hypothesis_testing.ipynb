{
 "cells": [
  {
   "cell_type": "code",
   "execution_count": 1,
   "metadata": {},
   "outputs": [],
   "source": [
    "import pandas as pd\n",
    "\n",
    "import seaborn as sns  \n",
    "sns.set()\n",
    "\n",
    "from statsmodels.stats.weightstats import ztest as ztest\n",
    "from statsmodels.stats.weightstats import ttest_ind as ttest_ind"
   ]
  },
  {
   "cell_type": "code",
   "execution_count": 2,
   "metadata": {},
   "outputs": [
    {
     "data": {
      "text/html": [
       "<div>\n",
       "<style scoped>\n",
       "    .dataframe tbody tr th:only-of-type {\n",
       "        vertical-align: middle;\n",
       "    }\n",
       "\n",
       "    .dataframe tbody tr th {\n",
       "        vertical-align: top;\n",
       "    }\n",
       "\n",
       "    .dataframe thead th {\n",
       "        text-align: right;\n",
       "    }\n",
       "</style>\n",
       "<table border=\"1\" class=\"dataframe\">\n",
       "  <thead>\n",
       "    <tr style=\"text-align: right;\">\n",
       "      <th></th>\n",
       "      <th>InvoiceNo</th>\n",
       "      <th>Date</th>\n",
       "      <th>Country</th>\n",
       "      <th>ProductID</th>\n",
       "      <th>Shop</th>\n",
       "      <th>Gender</th>\n",
       "      <th>Size (US)</th>\n",
       "      <th>Size (Europe)</th>\n",
       "      <th>Size (UK)</th>\n",
       "      <th>UnitPrice</th>\n",
       "      <th>Discount</th>\n",
       "      <th>Year</th>\n",
       "      <th>Month</th>\n",
       "      <th>SalePrice</th>\n",
       "    </tr>\n",
       "  </thead>\n",
       "  <tbody>\n",
       "    <tr>\n",
       "      <th>0</th>\n",
       "      <td>52389.0</td>\n",
       "      <td>1/1/2014</td>\n",
       "      <td>United Kingdom</td>\n",
       "      <td>2152.0</td>\n",
       "      <td>UK2</td>\n",
       "      <td>Male</td>\n",
       "      <td>11.0</td>\n",
       "      <td>44</td>\n",
       "      <td>10.5</td>\n",
       "      <td>$159.00</td>\n",
       "      <td>0%</td>\n",
       "      <td>2014</td>\n",
       "      <td>1</td>\n",
       "      <td>$159.00</td>\n",
       "    </tr>\n",
       "    <tr>\n",
       "      <th>1</th>\n",
       "      <td>52390.0</td>\n",
       "      <td>1/1/2014</td>\n",
       "      <td>United States</td>\n",
       "      <td>2230.0</td>\n",
       "      <td>US15</td>\n",
       "      <td>Male</td>\n",
       "      <td>11.5</td>\n",
       "      <td>44-45</td>\n",
       "      <td>11.0</td>\n",
       "      <td>$199.00</td>\n",
       "      <td>20%</td>\n",
       "      <td>2014</td>\n",
       "      <td>1</td>\n",
       "      <td>$159.20</td>\n",
       "    </tr>\n",
       "    <tr>\n",
       "      <th>2</th>\n",
       "      <td>52391.0</td>\n",
       "      <td>1/1/2014</td>\n",
       "      <td>Canada</td>\n",
       "      <td>2160.0</td>\n",
       "      <td>CAN7</td>\n",
       "      <td>Male</td>\n",
       "      <td>9.5</td>\n",
       "      <td>42-43</td>\n",
       "      <td>9.0</td>\n",
       "      <td>$149.00</td>\n",
       "      <td>20%</td>\n",
       "      <td>2014</td>\n",
       "      <td>1</td>\n",
       "      <td>$119.20</td>\n",
       "    </tr>\n",
       "    <tr>\n",
       "      <th>3</th>\n",
       "      <td>52392.0</td>\n",
       "      <td>1/1/2014</td>\n",
       "      <td>United States</td>\n",
       "      <td>2234.0</td>\n",
       "      <td>US6</td>\n",
       "      <td>Female</td>\n",
       "      <td>9.5</td>\n",
       "      <td>40</td>\n",
       "      <td>7.5</td>\n",
       "      <td>$159.00</td>\n",
       "      <td>0%</td>\n",
       "      <td>2014</td>\n",
       "      <td>1</td>\n",
       "      <td>$159.00</td>\n",
       "    </tr>\n",
       "    <tr>\n",
       "      <th>4</th>\n",
       "      <td>52393.0</td>\n",
       "      <td>1/1/2014</td>\n",
       "      <td>United Kingdom</td>\n",
       "      <td>2222.0</td>\n",
       "      <td>UK4</td>\n",
       "      <td>Female</td>\n",
       "      <td>9.0</td>\n",
       "      <td>39-40</td>\n",
       "      <td>7.0</td>\n",
       "      <td>$159.00</td>\n",
       "      <td>0%</td>\n",
       "      <td>2014</td>\n",
       "      <td>1</td>\n",
       "      <td>$159.00</td>\n",
       "    </tr>\n",
       "    <tr>\n",
       "      <th>5</th>\n",
       "      <td>52394.0</td>\n",
       "      <td>1/1/2014</td>\n",
       "      <td>United States</td>\n",
       "      <td>2173.0</td>\n",
       "      <td>US15</td>\n",
       "      <td>Male</td>\n",
       "      <td>10.5</td>\n",
       "      <td>43-44</td>\n",
       "      <td>10.0</td>\n",
       "      <td>$159.00</td>\n",
       "      <td>0%</td>\n",
       "      <td>2014</td>\n",
       "      <td>1</td>\n",
       "      <td>$159.00</td>\n",
       "    </tr>\n",
       "    <tr>\n",
       "      <th>6</th>\n",
       "      <td>52395.0</td>\n",
       "      <td>1/2/2014</td>\n",
       "      <td>Germany</td>\n",
       "      <td>2200.0</td>\n",
       "      <td>GER2</td>\n",
       "      <td>Female</td>\n",
       "      <td>9.0</td>\n",
       "      <td>39-40</td>\n",
       "      <td>7.0</td>\n",
       "      <td>$179.00</td>\n",
       "      <td>0%</td>\n",
       "      <td>2014</td>\n",
       "      <td>1</td>\n",
       "      <td>$179.00</td>\n",
       "    </tr>\n",
       "    <tr>\n",
       "      <th>7</th>\n",
       "      <td>52396.0</td>\n",
       "      <td>1/2/2014</td>\n",
       "      <td>Canada</td>\n",
       "      <td>2238.0</td>\n",
       "      <td>CAN5</td>\n",
       "      <td>Male</td>\n",
       "      <td>10.0</td>\n",
       "      <td>43</td>\n",
       "      <td>9.5</td>\n",
       "      <td>$169.00</td>\n",
       "      <td>0%</td>\n",
       "      <td>2014</td>\n",
       "      <td>1</td>\n",
       "      <td>$169.00</td>\n",
       "    </tr>\n",
       "    <tr>\n",
       "      <th>8</th>\n",
       "      <td>52397.0</td>\n",
       "      <td>1/2/2014</td>\n",
       "      <td>United States</td>\n",
       "      <td>2191.0</td>\n",
       "      <td>US13</td>\n",
       "      <td>Male</td>\n",
       "      <td>10.5</td>\n",
       "      <td>43-44</td>\n",
       "      <td>10.0</td>\n",
       "      <td>$139.00</td>\n",
       "      <td>0%</td>\n",
       "      <td>2014</td>\n",
       "      <td>1</td>\n",
       "      <td>$139.00</td>\n",
       "    </tr>\n",
       "    <tr>\n",
       "      <th>9</th>\n",
       "      <td>52398.0</td>\n",
       "      <td>1/2/2014</td>\n",
       "      <td>United Kingdom</td>\n",
       "      <td>2237.0</td>\n",
       "      <td>UK1</td>\n",
       "      <td>Female</td>\n",
       "      <td>9.0</td>\n",
       "      <td>39-40</td>\n",
       "      <td>7.0</td>\n",
       "      <td>$149.00</td>\n",
       "      <td>0%</td>\n",
       "      <td>2014</td>\n",
       "      <td>1</td>\n",
       "      <td>$149.00</td>\n",
       "    </tr>\n",
       "  </tbody>\n",
       "</table>\n",
       "</div>"
      ],
      "text/plain": [
       "   InvoiceNo      Date         Country  ProductID  Shop  Gender  Size (US)  \\\n",
       "0    52389.0  1/1/2014  United Kingdom     2152.0   UK2    Male       11.0   \n",
       "1    52390.0  1/1/2014   United States     2230.0  US15    Male       11.5   \n",
       "2    52391.0  1/1/2014          Canada     2160.0  CAN7    Male        9.5   \n",
       "3    52392.0  1/1/2014   United States     2234.0   US6  Female        9.5   \n",
       "4    52393.0  1/1/2014  United Kingdom     2222.0   UK4  Female        9.0   \n",
       "5    52394.0  1/1/2014   United States     2173.0  US15    Male       10.5   \n",
       "6    52395.0  1/2/2014         Germany     2200.0  GER2  Female        9.0   \n",
       "7    52396.0  1/2/2014          Canada     2238.0  CAN5    Male       10.0   \n",
       "8    52397.0  1/2/2014   United States     2191.0  US13    Male       10.5   \n",
       "9    52398.0  1/2/2014  United Kingdom     2237.0   UK1  Female        9.0   \n",
       "\n",
       "  Size (Europe)  Size (UK) UnitPrice Discount  Year Month SalePrice  \n",
       "0            44       10.5   $159.00       0%  2014     1   $159.00  \n",
       "1         44-45       11.0   $199.00      20%  2014     1   $159.20  \n",
       "2         42-43        9.0   $149.00      20%  2014     1   $119.20  \n",
       "3            40        7.5   $159.00       0%  2014     1   $159.00  \n",
       "4         39-40        7.0   $159.00       0%  2014     1   $159.00  \n",
       "5         43-44       10.0   $159.00       0%  2014     1   $159.00  \n",
       "6         39-40        7.0   $179.00       0%  2014     1   $179.00  \n",
       "7            43        9.5   $169.00       0%  2014     1   $169.00  \n",
       "8         43-44       10.0   $139.00       0%  2014     1   $139.00  \n",
       "9         39-40        7.0   $149.00       0%  2014     1   $149.00  "
      ]
     },
     "execution_count": 2,
     "metadata": {},
     "output_type": "execute_result"
    }
   ],
   "source": [
    "df = pd.read_csv('shoes.csv')\n",
    "df.head(10)"
   ]
  },
  {
   "cell_type": "code",
   "execution_count": 3,
   "metadata": {},
   "outputs": [
    {
     "data": {
      "text/plain": [
       "(14977, 14)"
      ]
     },
     "execution_count": 3,
     "metadata": {},
     "output_type": "execute_result"
    }
   ],
   "source": [
    "df.shape"
   ]
  },
  {
   "cell_type": "code",
   "execution_count": 4,
   "metadata": {},
   "outputs": [
    {
     "name": "stdout",
     "output_type": "stream",
     "text": [
      "<class 'pandas.core.frame.DataFrame'>\n",
      "RangeIndex: 14977 entries, 0 to 14976\n",
      "Data columns (total 14 columns):\n",
      " #   Column         Non-Null Count  Dtype  \n",
      "---  ------         --------------  -----  \n",
      " 0   InvoiceNo      14967 non-null  float64\n",
      " 1   Date           14971 non-null  object \n",
      " 2   Country        14976 non-null  object \n",
      " 3   ProductID      14976 non-null  float64\n",
      " 4   Shop           14976 non-null  object \n",
      " 5   Gender         14976 non-null  object \n",
      " 6   Size (US)      14976 non-null  float64\n",
      " 7   Size (Europe)  14976 non-null  object \n",
      " 8   Size (UK)      14976 non-null  float64\n",
      " 9   UnitPrice      14976 non-null  object \n",
      " 10  Discount       14976 non-null  object \n",
      " 11  Year           14976 non-null  object \n",
      " 12  Month          14976 non-null  object \n",
      " 13  SalePrice      14976 non-null  object \n",
      "dtypes: float64(4), object(10)\n",
      "memory usage: 1.6+ MB\n"
     ]
    }
   ],
   "source": [
    "df.info()"
   ]
  },
  {
   "cell_type": "markdown",
   "metadata": {},
   "source": [
    "# Define a problem statement to investigate with either t-test or z-test.\n",
    "\n",
    "The CEO wants to know whether it was profitable to sell shoes in the US or Germany based on the previous data."
   ]
  },
  {
   "cell_type": "markdown",
   "metadata": {},
   "source": [
    "# Justify your test approach and selection of which test you will use.\n",
    "We will approach the problem by comparison using hypothesis testing on the unit price of shoes between the US and Germany. According to economic principle of supply and demand, the higher demand equals higher prices. Since our unit price column well exceeds 30, we will use z test for hypothesis testing. "
   ]
  },
  {
   "cell_type": "markdown",
   "metadata": {},
   "source": [
    "# Describe your dataset, including the columns that will support our analysis.\n",
    "In order to conduct the analysis, we prepare the columns 'Country' and 'Unit Price."
   ]
  },
  {
   "cell_type": "code",
   "execution_count": 5,
   "metadata": {},
   "outputs": [
    {
     "data": {
      "text/plain": [
       "array(['United Kingdom', 'United States', 'Canada', 'Germany', nan],\n",
       "      dtype=object)"
      ]
     },
     "execution_count": 5,
     "metadata": {},
     "output_type": "execute_result"
    }
   ],
   "source": [
    "df['Country'].unique()"
   ]
  },
  {
   "cell_type": "code",
   "execution_count": 6,
   "metadata": {},
   "outputs": [
    {
     "data": {
      "text/html": [
       "<div>\n",
       "<style scoped>\n",
       "    .dataframe tbody tr th:only-of-type {\n",
       "        vertical-align: middle;\n",
       "    }\n",
       "\n",
       "    .dataframe tbody tr th {\n",
       "        vertical-align: top;\n",
       "    }\n",
       "\n",
       "    .dataframe thead th {\n",
       "        text-align: right;\n",
       "    }\n",
       "</style>\n",
       "<table border=\"1\" class=\"dataframe\">\n",
       "  <thead>\n",
       "    <tr style=\"text-align: right;\">\n",
       "      <th></th>\n",
       "      <th>InvoiceNo</th>\n",
       "      <th>Date</th>\n",
       "      <th>Country</th>\n",
       "      <th>ProductID</th>\n",
       "      <th>Shop</th>\n",
       "      <th>Gender</th>\n",
       "      <th>Size (US)</th>\n",
       "      <th>Size (Europe)</th>\n",
       "      <th>Size (UK)</th>\n",
       "      <th>UnitPrice</th>\n",
       "      <th>Discount</th>\n",
       "      <th>Year</th>\n",
       "      <th>Month</th>\n",
       "      <th>SalePrice</th>\n",
       "    </tr>\n",
       "  </thead>\n",
       "  <tbody>\n",
       "    <tr>\n",
       "      <th>14967</th>\n",
       "      <td>NaN</td>\n",
       "      <td>NaN</td>\n",
       "      <td>NaN</td>\n",
       "      <td>NaN</td>\n",
       "      <td>NaN</td>\n",
       "      <td>NaN</td>\n",
       "      <td>NaN</td>\n",
       "      <td>NaN</td>\n",
       "      <td>NaN</td>\n",
       "      <td>NaN</td>\n",
       "      <td>NaN</td>\n",
       "      <td>NaN</td>\n",
       "      <td>NaN</td>\n",
       "      <td>NaN</td>\n",
       "    </tr>\n",
       "  </tbody>\n",
       "</table>\n",
       "</div>"
      ],
      "text/plain": [
       "       InvoiceNo Date Country  ProductID Shop Gender  Size (US) Size (Europe)  \\\n",
       "14967        NaN  NaN     NaN        NaN  NaN    NaN        NaN           NaN   \n",
       "\n",
       "       Size (UK) UnitPrice Discount Year Month SalePrice  \n",
       "14967        NaN       NaN      NaN  NaN   NaN       NaN  "
      ]
     },
     "execution_count": 6,
     "metadata": {},
     "output_type": "execute_result"
    }
   ],
   "source": [
    "df[df['Country'].isna()]"
   ]
  },
  {
   "cell_type": "code",
   "execution_count": 7,
   "metadata": {},
   "outputs": [
    {
     "name": "stdout",
     "output_type": "stream",
     "text": [
      "<class 'pandas.core.frame.DataFrame'>\n",
      "Int64Index: 14976 entries, 0 to 14976\n",
      "Data columns (total 14 columns):\n",
      " #   Column         Non-Null Count  Dtype  \n",
      "---  ------         --------------  -----  \n",
      " 0   InvoiceNo      14967 non-null  float64\n",
      " 1   Date           14971 non-null  object \n",
      " 2   Country        14976 non-null  object \n",
      " 3   ProductID      14976 non-null  float64\n",
      " 4   Shop           14976 non-null  object \n",
      " 5   Gender         14976 non-null  object \n",
      " 6   Size (US)      14976 non-null  float64\n",
      " 7   Size (Europe)  14976 non-null  object \n",
      " 8   Size (UK)      14976 non-null  float64\n",
      " 9   UnitPrice      14976 non-null  object \n",
      " 10  Discount       14976 non-null  object \n",
      " 11  Year           14976 non-null  object \n",
      " 12  Month          14976 non-null  object \n",
      " 13  SalePrice      14976 non-null  object \n",
      "dtypes: float64(4), object(10)\n",
      "memory usage: 1.7+ MB\n"
     ]
    }
   ],
   "source": [
    "df.drop(14967, inplace=True)\n",
    "df.info()"
   ]
  },
  {
   "cell_type": "markdown",
   "metadata": {},
   "source": [
    "# Prep your data for analysis\n",
    "\n",
    "Since the UnitPrice column is an object type, we will transform it into a numerical datatype to perform our hypothesis testing."
   ]
  },
  {
   "cell_type": "code",
   "execution_count": 8,
   "metadata": {},
   "outputs": [
    {
     "name": "stdout",
     "output_type": "stream",
     "text": [
      "<class 'pandas.core.frame.DataFrame'>\n",
      "Int64Index: 14976 entries, 0 to 14976\n",
      "Data columns (total 14 columns):\n",
      " #   Column         Non-Null Count  Dtype  \n",
      "---  ------         --------------  -----  \n",
      " 0   InvoiceNo      14967 non-null  float64\n",
      " 1   Date           14971 non-null  object \n",
      " 2   Country        14976 non-null  object \n",
      " 3   ProductID      14976 non-null  float64\n",
      " 4   Shop           14976 non-null  object \n",
      " 5   Gender         14976 non-null  object \n",
      " 6   Size (US)      14976 non-null  float64\n",
      " 7   Size (Europe)  14976 non-null  object \n",
      " 8   Size (UK)      14976 non-null  float64\n",
      " 9   UnitPrice      14976 non-null  float64\n",
      " 10  Discount       14976 non-null  object \n",
      " 11  Year           14976 non-null  object \n",
      " 12  Month          14976 non-null  object \n",
      " 13  SalePrice      14976 non-null  object \n",
      "dtypes: float64(5), object(9)\n",
      "memory usage: 1.7+ MB\n"
     ]
    }
   ],
   "source": [
    "df.UnitPrice = df.UnitPrice.replace('[\\$,]','', regex=True).astype(float)\n",
    "\n",
    "df.info()"
   ]
  },
  {
   "cell_type": "code",
   "execution_count": 9,
   "metadata": {},
   "outputs": [
    {
     "data": {
      "text/plain": [
       "count    14976.000000\n",
       "mean       164.158921\n",
       "std         22.941345\n",
       "min        129.000000\n",
       "25%        149.000000\n",
       "50%        159.000000\n",
       "75%        179.000000\n",
       "max        199.000000\n",
       "Name: UnitPrice, dtype: float64"
      ]
     },
     "execution_count": 9,
     "metadata": {},
     "output_type": "execute_result"
    }
   ],
   "source": [
    "df.UnitPrice.describe()"
   ]
  },
  {
   "cell_type": "code",
   "execution_count": 10,
   "metadata": {},
   "outputs": [],
   "source": [
    "sale_df = df.drop(['InvoiceNo', 'ProductID', 'Size (US)', 'Size (UK)'], axis=1)"
   ]
  },
  {
   "cell_type": "code",
   "execution_count": 11,
   "metadata": {},
   "outputs": [
    {
     "data": {
      "text/html": [
       "<div>\n",
       "<style scoped>\n",
       "    .dataframe tbody tr th:only-of-type {\n",
       "        vertical-align: middle;\n",
       "    }\n",
       "\n",
       "    .dataframe tbody tr th {\n",
       "        vertical-align: top;\n",
       "    }\n",
       "\n",
       "    .dataframe thead tr th {\n",
       "        text-align: left;\n",
       "    }\n",
       "\n",
       "    .dataframe thead tr:last-of-type th {\n",
       "        text-align: right;\n",
       "    }\n",
       "</style>\n",
       "<table border=\"1\" class=\"dataframe\">\n",
       "  <thead>\n",
       "    <tr>\n",
       "      <th></th>\n",
       "      <th colspan=\"8\" halign=\"left\">UnitPrice</th>\n",
       "    </tr>\n",
       "    <tr>\n",
       "      <th></th>\n",
       "      <th>count</th>\n",
       "      <th>mean</th>\n",
       "      <th>std</th>\n",
       "      <th>min</th>\n",
       "      <th>25%</th>\n",
       "      <th>50%</th>\n",
       "      <th>75%</th>\n",
       "      <th>max</th>\n",
       "    </tr>\n",
       "    <tr>\n",
       "      <th>Country</th>\n",
       "      <th></th>\n",
       "      <th></th>\n",
       "      <th></th>\n",
       "      <th></th>\n",
       "      <th></th>\n",
       "      <th></th>\n",
       "      <th></th>\n",
       "      <th></th>\n",
       "    </tr>\n",
       "  </thead>\n",
       "  <tbody>\n",
       "    <tr>\n",
       "      <th>Canada</th>\n",
       "      <td>2952.0</td>\n",
       "      <td>164.691057</td>\n",
       "      <td>23.458871</td>\n",
       "      <td>129.0</td>\n",
       "      <td>149.0</td>\n",
       "      <td>169.0</td>\n",
       "      <td>189.0</td>\n",
       "      <td>199.0</td>\n",
       "    </tr>\n",
       "    <tr>\n",
       "      <th>Germany</th>\n",
       "      <td>4401.0</td>\n",
       "      <td>164.121563</td>\n",
       "      <td>22.557804</td>\n",
       "      <td>129.0</td>\n",
       "      <td>149.0</td>\n",
       "      <td>159.0</td>\n",
       "      <td>179.0</td>\n",
       "      <td>199.0</td>\n",
       "    </tr>\n",
       "    <tr>\n",
       "      <th>United Kingdom</th>\n",
       "      <td>1737.0</td>\n",
       "      <td>165.614853</td>\n",
       "      <td>23.609917</td>\n",
       "      <td>129.0</td>\n",
       "      <td>149.0</td>\n",
       "      <td>169.0</td>\n",
       "      <td>189.0</td>\n",
       "      <td>199.0</td>\n",
       "    </tr>\n",
       "    <tr>\n",
       "      <th>United States</th>\n",
       "      <td>5886.0</td>\n",
       "      <td>163.490316</td>\n",
       "      <td>22.741654</td>\n",
       "      <td>129.0</td>\n",
       "      <td>139.0</td>\n",
       "      <td>159.0</td>\n",
       "      <td>179.0</td>\n",
       "      <td>199.0</td>\n",
       "    </tr>\n",
       "  </tbody>\n",
       "</table>\n",
       "</div>"
      ],
      "text/plain": [
       "               UnitPrice                                                     \\\n",
       "                   count        mean        std    min    25%    50%    75%   \n",
       "Country                                                                       \n",
       "Canada            2952.0  164.691057  23.458871  129.0  149.0  169.0  189.0   \n",
       "Germany           4401.0  164.121563  22.557804  129.0  149.0  159.0  179.0   \n",
       "United Kingdom    1737.0  165.614853  23.609917  129.0  149.0  169.0  189.0   \n",
       "United States     5886.0  163.490316  22.741654  129.0  139.0  159.0  179.0   \n",
       "\n",
       "                       \n",
       "                  max  \n",
       "Country                \n",
       "Canada          199.0  \n",
       "Germany         199.0  \n",
       "United Kingdom  199.0  \n",
       "United States   199.0  "
      ]
     },
     "execution_count": 11,
     "metadata": {},
     "output_type": "execute_result"
    }
   ],
   "source": [
    "sale_df.groupby('Country').describe()"
   ]
  },
  {
   "cell_type": "code",
   "execution_count": 12,
   "metadata": {},
   "outputs": [
    {
     "data": {
      "text/plain": [
       "1     199.0\n",
       "3     159.0\n",
       "5     159.0\n",
       "8     139.0\n",
       "10    129.0\n",
       "Name: UnitPrice, dtype: float64"
      ]
     },
     "execution_count": 12,
     "metadata": {},
     "output_type": "execute_result"
    }
   ],
   "source": [
    "US_price = sale_df[sale_df.Country == 'United States'].UnitPrice\n",
    "US_price.head()"
   ]
  },
  {
   "cell_type": "code",
   "execution_count": 13,
   "metadata": {},
   "outputs": [
    {
     "data": {
      "text/plain": [
       "6     179.0\n",
       "14    169.0\n",
       "15    179.0\n",
       "24    149.0\n",
       "25    149.0\n",
       "Name: UnitPrice, dtype: float64"
      ]
     },
     "execution_count": 13,
     "metadata": {},
     "output_type": "execute_result"
    }
   ],
   "source": [
    "GER_price = sale_df[sale_df.Country == 'Germany'].UnitPrice\n",
    "GER_price.head()"
   ]
  },
  {
   "cell_type": "markdown",
   "metadata": {},
   "source": [
    "# Define a H0/H1 couplet to support your problem statement."
   ]
  },
  {
   "cell_type": "markdown",
   "metadata": {},
   "source": [
    "H0: there is no difference in the unit price of shoes between US and Germany.\n",
    "\n",
    "H1: there is a difference in the unit price of shoes between US and Germany."
   ]
  },
  {
   "cell_type": "markdown",
   "metadata": {},
   "source": [
    "# Conduct your hypothesis testing\n",
    "\n",
    "Since the p-value is higher than the alpha, we accept the null hypothesis. Therefore, our analysis tells us there's no difference in the unit price of shoes between the US and Germany. However, we want to delve deeper into the problem statement. The unit price is not the best indicator of profitability."
   ]
  },
  {
   "cell_type": "code",
   "execution_count": 14,
   "metadata": {},
   "outputs": [
    {
     "name": "stdout",
     "output_type": "stream",
     "text": [
      "z-test statistic: -1.3977195190983525, p-value: 0.16219731042724106\n"
     ]
    }
   ],
   "source": [
    "zstat_price, pval_price = ztest(US_price, GER_price, value=0, alternative='two-sided') \n",
    "print(f'z-test statistic: {zstat_price}, p-value: {pval_price}')"
   ]
  },
  {
   "cell_type": "code",
   "execution_count": 15,
   "metadata": {},
   "outputs": [
    {
     "name": "stdout",
     "output_type": "stream",
     "text": [
      "Accept null hypothesis\n"
     ]
    }
   ],
   "source": [
    "alpha = .05\n",
    "\n",
    "if pval_price < alpha:   \n",
    "   print('Reject null hypothesis')\n",
    "else:\n",
    "  print('Accept null hypothesis')"
   ]
  },
  {
   "cell_type": "markdown",
   "metadata": {},
   "source": [
    "# Redefine your H0/H1 couplet to dive deeper into the analysis\n",
    "\n",
    "If we look at our dataset columns, we have a discount column which decreases the profibability of sales. Therefore, we change the indicator of profitability of shoes to sales price."
   ]
  },
  {
   "cell_type": "code",
   "execution_count": 30,
   "metadata": {},
   "outputs": [
    {
     "name": "stdout",
     "output_type": "stream",
     "text": [
      "<class 'pandas.core.frame.DataFrame'>\n",
      "Int64Index: 14976 entries, 0 to 14976\n",
      "Data columns (total 14 columns):\n",
      " #   Column         Non-Null Count  Dtype  \n",
      "---  ------         --------------  -----  \n",
      " 0   InvoiceNo      14967 non-null  float64\n",
      " 1   Date           14971 non-null  object \n",
      " 2   Country        14976 non-null  object \n",
      " 3   ProductID      14976 non-null  float64\n",
      " 4   Shop           14976 non-null  object \n",
      " 5   Gender         14976 non-null  object \n",
      " 6   Size (US)      14976 non-null  float64\n",
      " 7   Size (Europe)  14976 non-null  object \n",
      " 8   Size (UK)      14976 non-null  float64\n",
      " 9   UnitPrice      14976 non-null  float64\n",
      " 10  Discount       14976 non-null  object \n",
      " 11  Year           14976 non-null  object \n",
      " 12  Month          14976 non-null  object \n",
      " 13  SalePrice      14976 non-null  float64\n",
      "dtypes: float64(6), object(8)\n",
      "memory usage: 1.7+ MB\n"
     ]
    }
   ],
   "source": [
    "sale_df.SalePrice = df.SalePrice.replace('[\\$,]','', regex=True).astype(float)\n",
    "\n",
    "df.info()"
   ]
  },
  {
   "cell_type": "code",
   "execution_count": 31,
   "metadata": {},
   "outputs": [
    {
     "data": {
      "text/plain": [
       "1     159.2\n",
       "3     159.0\n",
       "5     159.0\n",
       "8     139.0\n",
       "10    129.0\n",
       "Name: SalePrice, dtype: float64"
      ]
     },
     "execution_count": 31,
     "metadata": {},
     "output_type": "execute_result"
    }
   ],
   "source": [
    "US_sales = sale_df[sale_df.Country == 'United States'].SalePrice\n",
    "US_sales.head()"
   ]
  },
  {
   "cell_type": "code",
   "execution_count": 32,
   "metadata": {},
   "outputs": [
    {
     "data": {
      "text/plain": [
       "6     179.0\n",
       "14     84.5\n",
       "15    143.2\n",
       "24    119.2\n",
       "25    119.2\n",
       "Name: SalePrice, dtype: float64"
      ]
     },
     "execution_count": 32,
     "metadata": {},
     "output_type": "execute_result"
    }
   ],
   "source": [
    "GER_sales = sale_df[sale_df.Country == 'Germany'].SalePrice\n",
    "GER_sales.head()"
   ]
  },
  {
   "cell_type": "markdown",
   "metadata": {},
   "source": [
    "H0: there is no difference in the sales amount of shoes between US and Germany.\n",
    "\n",
    "H1: there is a difference in the sales amountt shoes between US and Germany."
   ]
  },
  {
   "cell_type": "code",
   "execution_count": 33,
   "metadata": {},
   "outputs": [
    {
     "name": "stdout",
     "output_type": "stream",
     "text": [
      "z-test statistic: 0.2551593077494768, p-value: 0.7986000587158817\n"
     ]
    }
   ],
   "source": [
    "zstat_sales, pval_sales = ztest(US_sales, GER_sales, value=0, alternative='two-sided') \n",
    "print(f'z-test statistic: {zstat_sales}, p-value: {pval_sales}')"
   ]
  },
  {
   "cell_type": "code",
   "execution_count": 34,
   "metadata": {},
   "outputs": [
    {
     "name": "stdout",
     "output_type": "stream",
     "text": [
      "Accept null hypothesis\n"
     ]
    }
   ],
   "source": [
    "# alpha value is 0.05 or 5%\n",
    "alpha = .05\n",
    "\n",
    "# evaluation of p-value\n",
    "if pval_sales < alpha:   \n",
    "   print('Reject null hypothesis')\n",
    "else:\n",
    "  print('Accept null hypothesis')"
   ]
  }
 ],
 "metadata": {
  "kernelspec": {
   "display_name": "Python 3 (ipykernel)",
   "language": "python",
   "name": "python3"
  },
  "language_info": {
   "codemirror_mode": {
    "name": "ipython",
    "version": 3
   },
   "file_extension": ".py",
   "mimetype": "text/x-python",
   "name": "python",
   "nbconvert_exporter": "python",
   "pygments_lexer": "ipython3",
   "version": "3.13.0"
  }
 },
 "nbformat": 4,
 "nbformat_minor": 4
}
