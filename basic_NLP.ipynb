{
 "cells": [
  {
   "cell_type": "code",
   "execution_count": 1,
   "id": "e5e84e50",
   "metadata": {},
   "outputs": [
    {
     "data": {
      "text/html": [
       "<div>\n",
       "<style scoped>\n",
       "    .dataframe tbody tr th:only-of-type {\n",
       "        vertical-align: middle;\n",
       "    }\n",
       "\n",
       "    .dataframe tbody tr th {\n",
       "        vertical-align: top;\n",
       "    }\n",
       "\n",
       "    .dataframe thead th {\n",
       "        text-align: right;\n",
       "    }\n",
       "</style>\n",
       "<table border=\"1\" class=\"dataframe\">\n",
       "  <thead>\n",
       "    <tr style=\"text-align: right;\">\n",
       "      <th></th>\n",
       "      <th>title</th>\n",
       "      <th>link</th>\n",
       "      <th>author</th>\n",
       "      <th>n_comments</th>\n",
       "      <th>score</th>\n",
       "      <th>text</th>\n",
       "    </tr>\n",
       "  </thead>\n",
       "  <tbody>\n",
       "    <tr>\n",
       "      <th>0</th>\n",
       "      <td>The r/Mongolia 50,000 subscriber milestone survey</td>\n",
       "      <td>/r/mongolia/comments/17cwst9/the_rmongolia_500...</td>\n",
       "      <td>EpochFail9001</td>\n",
       "      <td>12</td>\n",
       "      <td>35</td>\n",
       "      <td>Please take a moment to fill out a quick surve...</td>\n",
       "    </tr>\n",
       "    <tr>\n",
       "      <th>1</th>\n",
       "      <td>Help</td>\n",
       "      <td>/r/mongolia/comments/1b5h8ji/help/</td>\n",
       "      <td>Financial-Divide-774</td>\n",
       "      <td>10</td>\n",
       "      <td>50</td>\n",
       "      <td></td>\n",
       "    </tr>\n",
       "    <tr>\n",
       "      <th>2</th>\n",
       "      <td>I can’t stop laughing about the post of the gu...</td>\n",
       "      <td>/r/mongolia/comments/1b5chfv/i_cant_stop_laugh...</td>\n",
       "      <td>AdhesivenessAware670</td>\n",
       "      <td>15</td>\n",
       "      <td>48</td>\n",
       "      <td>Got me thinking what do people actually say? D...</td>\n",
       "    </tr>\n",
       "    <tr>\n",
       "      <th>3</th>\n",
       "      <td>I love mongolia</td>\n",
       "      <td>/r/mongolia/comments/1b5o9xo/i_love_mongolia/</td>\n",
       "      <td>Pretend_Display2379</td>\n",
       "      <td>0</td>\n",
       "      <td>3</td>\n",
       "      <td>I’m not mongolian never been to mongolia but I...</td>\n",
       "    </tr>\n",
       "    <tr>\n",
       "      <th>4</th>\n",
       "      <td>I find it funny and sad that when I stop for p...</td>\n",
       "      <td>/r/mongolia/comments/1b56yvg/i_find_it_funny_a...</td>\n",
       "      <td>upgrademcr</td>\n",
       "      <td>17</td>\n",
       "      <td>49</td>\n",
       "      <td>Mongolian drivers are so angry and impatient, ...</td>\n",
       "    </tr>\n",
       "    <tr>\n",
       "      <th>...</th>\n",
       "      <td>...</td>\n",
       "      <td>...</td>\n",
       "      <td>...</td>\n",
       "      <td>...</td>\n",
       "      <td>...</td>\n",
       "      <td>...</td>\n",
       "    </tr>\n",
       "    <tr>\n",
       "      <th>951</th>\n",
       "      <td>I think we are evolving</td>\n",
       "      <td>/r/mongolia/comments/18pxe35/i_think_we_are_ev...</td>\n",
       "      <td>Cr1spyTM</td>\n",
       "      <td>7</td>\n",
       "      <td>155</td>\n",
       "      <td></td>\n",
       "    </tr>\n",
       "    <tr>\n",
       "      <th>952</th>\n",
       "      <td>Question about currency exchange in UB</td>\n",
       "      <td>/r/mongolia/comments/18qex25/question_about_cu...</td>\n",
       "      <td>jmiragee</td>\n",
       "      <td>2</td>\n",
       "      <td>2</td>\n",
       "      <td>Hey everyone, I’m travelling to Mongolia in 2 ...</td>\n",
       "    </tr>\n",
       "    <tr>\n",
       "      <th>953</th>\n",
       "      <td>Laos, Vientiane, something looks similar?</td>\n",
       "      <td>/r/mongolia/comments/18qe789/laos_vientiane_so...</td>\n",
       "      <td>_steppe22</td>\n",
       "      <td>2</td>\n",
       "      <td>0</td>\n",
       "      <td>Vietnamd bs harsan ene neg yg Hangarid sjif ha...</td>\n",
       "    </tr>\n",
       "    <tr>\n",
       "      <th>954</th>\n",
       "      <td>Are there less young people?</td>\n",
       "      <td>/r/mongolia/comments/18qcv04/are_there_less_yo...</td>\n",
       "      <td>Antique-Tangerine719</td>\n",
       "      <td>9</td>\n",
       "      <td>0</td>\n",
       "      <td>Does anyone else feel like the amount of young...</td>\n",
       "    </tr>\n",
       "    <tr>\n",
       "      <th>955</th>\n",
       "      <td>From the Union of Mongolian Artist's Gallery (...</td>\n",
       "      <td>/r/mongolia/comments/18psnr6/from_the_union_of...</td>\n",
       "      <td>UUUNUUU</td>\n",
       "      <td>4</td>\n",
       "      <td>38</td>\n",
       "      <td>Everyone! Come and visit from time to time! Th...</td>\n",
       "    </tr>\n",
       "  </tbody>\n",
       "</table>\n",
       "<p>956 rows × 6 columns</p>\n",
       "</div>"
      ],
      "text/plain": [
       "                                                 title  \\\n",
       "0    The r/Mongolia 50,000 subscriber milestone survey   \n",
       "1                                                Help    \n",
       "2    I can’t stop laughing about the post of the gu...   \n",
       "3                                      I love mongolia   \n",
       "4    I find it funny and sad that when I stop for p...   \n",
       "..                                                 ...   \n",
       "951                            I think we are evolving   \n",
       "952             Question about currency exchange in UB   \n",
       "953          Laos, Vientiane, something looks similar?   \n",
       "954                       Are there less young people?   \n",
       "955  From the Union of Mongolian Artist's Gallery (...   \n",
       "\n",
       "                                                  link                author  \\\n",
       "0    /r/mongolia/comments/17cwst9/the_rmongolia_500...         EpochFail9001   \n",
       "1                   /r/mongolia/comments/1b5h8ji/help/  Financial-Divide-774   \n",
       "2    /r/mongolia/comments/1b5chfv/i_cant_stop_laugh...  AdhesivenessAware670   \n",
       "3        /r/mongolia/comments/1b5o9xo/i_love_mongolia/   Pretend_Display2379   \n",
       "4    /r/mongolia/comments/1b56yvg/i_find_it_funny_a...            upgrademcr   \n",
       "..                                                 ...                   ...   \n",
       "951  /r/mongolia/comments/18pxe35/i_think_we_are_ev...              Cr1spyTM   \n",
       "952  /r/mongolia/comments/18qex25/question_about_cu...              jmiragee   \n",
       "953  /r/mongolia/comments/18qe789/laos_vientiane_so...             _steppe22   \n",
       "954  /r/mongolia/comments/18qcv04/are_there_less_yo...  Antique-Tangerine719   \n",
       "955  /r/mongolia/comments/18psnr6/from_the_union_of...               UUUNUUU   \n",
       "\n",
       "     n_comments  score                                               text  \n",
       "0            12     35  Please take a moment to fill out a quick surve...  \n",
       "1            10     50                                                     \n",
       "2            15     48  Got me thinking what do people actually say? D...  \n",
       "3             0      3  I’m not mongolian never been to mongolia but I...  \n",
       "4            17     49  Mongolian drivers are so angry and impatient, ...  \n",
       "..          ...    ...                                                ...  \n",
       "951           7    155                                                     \n",
       "952           2      2  Hey everyone, I’m travelling to Mongolia in 2 ...  \n",
       "953           2      0  Vietnamd bs harsan ene neg yg Hangarid sjif ha...  \n",
       "954           9      0  Does anyone else feel like the amount of young...  \n",
       "955           4     38  Everyone! Come and visit from time to time! Th...  \n",
       "\n",
       "[956 rows x 6 columns]"
      ]
     },
     "execution_count": 1,
     "metadata": {},
     "output_type": "execute_result"
    }
   ],
   "source": [
    "import sqlite3\n",
    "import pandas as pd\n",
    "\n",
    "con = sqlite3.connect('mon_reddit.sqlite')\n",
    "df = pd.read_sql_query('SELECT * from posts;', con)\n",
    "con.close()\n",
    "df"
   ]
  },
  {
   "cell_type": "markdown",
   "id": "2796f802",
   "metadata": {},
   "source": [
    "# Extract the sentiment scores using keywords sentiment analysis method\n",
    "\n",
    "First, we use the keyword sentiment analysis method. We start by loading the AFINN file which has a dictionary of words and their corresponding sentiment scores."
   ]
  },
  {
   "cell_type": "code",
   "execution_count": 2,
   "id": "34bf056f",
   "metadata": {},
   "outputs": [
    {
     "data": {
      "text/html": [
       "<div>\n",
       "<style scoped>\n",
       "    .dataframe tbody tr th:only-of-type {\n",
       "        vertical-align: middle;\n",
       "    }\n",
       "\n",
       "    .dataframe tbody tr th {\n",
       "        vertical-align: top;\n",
       "    }\n",
       "\n",
       "    .dataframe thead th {\n",
       "        text-align: right;\n",
       "    }\n",
       "</style>\n",
       "<table border=\"1\" class=\"dataframe\">\n",
       "  <thead>\n",
       "    <tr style=\"text-align: right;\">\n",
       "      <th></th>\n",
       "      <th>score</th>\n",
       "    </tr>\n",
       "    <tr>\n",
       "      <th>word</th>\n",
       "      <th></th>\n",
       "    </tr>\n",
       "  </thead>\n",
       "  <tbody>\n",
       "    <tr>\n",
       "      <th>abandon</th>\n",
       "      <td>-2</td>\n",
       "    </tr>\n",
       "    <tr>\n",
       "      <th>abandoned</th>\n",
       "      <td>-2</td>\n",
       "    </tr>\n",
       "    <tr>\n",
       "      <th>abandons</th>\n",
       "      <td>-2</td>\n",
       "    </tr>\n",
       "    <tr>\n",
       "      <th>abducted</th>\n",
       "      <td>-2</td>\n",
       "    </tr>\n",
       "    <tr>\n",
       "      <th>abduction</th>\n",
       "      <td>-2</td>\n",
       "    </tr>\n",
       "    <tr>\n",
       "      <th>...</th>\n",
       "      <td>...</td>\n",
       "    </tr>\n",
       "    <tr>\n",
       "      <th>yucky</th>\n",
       "      <td>-2</td>\n",
       "    </tr>\n",
       "    <tr>\n",
       "      <th>yummy</th>\n",
       "      <td>3</td>\n",
       "    </tr>\n",
       "    <tr>\n",
       "      <th>zealot</th>\n",
       "      <td>-2</td>\n",
       "    </tr>\n",
       "    <tr>\n",
       "      <th>zealots</th>\n",
       "      <td>-2</td>\n",
       "    </tr>\n",
       "    <tr>\n",
       "      <th>zealous</th>\n",
       "      <td>2</td>\n",
       "    </tr>\n",
       "  </tbody>\n",
       "</table>\n",
       "<p>3382 rows × 1 columns</p>\n",
       "</div>"
      ],
      "text/plain": [
       "           score\n",
       "word            \n",
       "abandon       -2\n",
       "abandoned     -2\n",
       "abandons      -2\n",
       "abducted      -2\n",
       "abduction     -2\n",
       "...          ...\n",
       "yucky         -2\n",
       "yummy          3\n",
       "zealot        -2\n",
       "zealots       -2\n",
       "zealous        2\n",
       "\n",
       "[3382 rows x 1 columns]"
      ]
     },
     "execution_count": 2,
     "metadata": {},
     "output_type": "execute_result"
    }
   ],
   "source": [
    "sentiment_df = pd.read_csv('AFINN-en-165.txt', sep='\\t', names=['word', 'score'], index_col='word')\n",
    "sentiment_df"
   ]
  },
  {
   "cell_type": "markdown",
   "id": "1a65e793",
   "metadata": {},
   "source": [
    "Here, we convert our dataframe to a dictionary which will be useful when querying the sentiment scores by the keywords."
   ]
  },
  {
   "cell_type": "code",
   "execution_count": 39,
   "id": "7c45c770",
   "metadata": {},
   "outputs": [],
   "source": [
    "sentiment_dict = sentiment_df.to_dict()['score']"
   ]
  },
  {
   "cell_type": "markdown",
   "id": "62c11968",
   "metadata": {},
   "source": [
    "Now we can find the average sentiment for each title we have in our original dataframe. We get the scores for each word and take the average for each title."
   ]
  },
  {
   "cell_type": "code",
   "execution_count": 4,
   "id": "010a435a",
   "metadata": {},
   "outputs": [],
   "source": [
    "import numpy as np\n",
    "\n",
    "title_sentiments = []\n",
    "for title in df['title']:\n",
    "    words = title.lower().split()\n",
    "    this_titles_sentiments = []\n",
    "    for w in words:\n",
    "        if w in sentiment_dict.keys():\n",
    "            this_titles_sentiments.append(sentiment_dict[w])\n",
    "        else:\n",
    "            this_titles_sentiments.append(0)\n",
    "            \n",
    "    \n",
    "    title_sentiments.append(np.mean(this_titles_sentiments))"
   ]
  },
  {
   "cell_type": "code",
   "execution_count": 5,
   "id": "2faab558",
   "metadata": {},
   "outputs": [],
   "source": [
    "df['keyword_sentiment'] = title_sentiments"
   ]
  },
  {
   "cell_type": "markdown",
   "id": "a6be5cd1",
   "metadata": {},
   "source": [
    "# Plot a histogram of the sentiment scores\n",
    "\n",
    "The histogram below indicates that most of the titles have neutral sentiment score skewing slightly to the positive direction."
   ]
  },
  {
   "cell_type": "code",
   "execution_count": 6,
   "id": "65bdfaad",
   "metadata": {},
   "outputs": [
    {
     "data": {
      "text/plain": [
       "<Axes: ylabel='Frequency'>"
      ]
     },
     "execution_count": 6,
     "metadata": {},
     "output_type": "execute_result"
    },
    {
     "data": {
      "image/png": "[encoded data removed]",
      "text/plain": [
       "<Figure size 640x480 with 1 Axes>"
      ]
     },
     "metadata": {},
     "output_type": "display_data"
    }
   ],
   "source": [
    "df['keyword_sentiment'].plot.hist(bins=30)"
   ]
  },
  {
   "cell_type": "markdown",
   "id": "475587a2",
   "metadata": {},
   "source": [
    "# Look at descriptive statistics of the sentiment scores\n",
    "\n",
    "The mean and the median are almost zero, while the standard deviation indicates that the dataset is clustered around the mean which is consistent with our graph."
   ]
  },
  {
   "cell_type": "code",
   "execution_count": 7,
   "id": "eda6a87a",
   "metadata": {},
   "outputs": [
    {
     "data": {
      "text/plain": [
       "0.03854881640225097"
      ]
     },
     "execution_count": 7,
     "metadata": {},
     "output_type": "execute_result"
    }
   ],
   "source": [
    "df['keyword_sentiment'].mean()"
   ]
  },
  {
   "cell_type": "code",
   "execution_count": 8,
   "id": "c07a42dd",
   "metadata": {},
   "outputs": [
    {
     "data": {
      "text/plain": [
       "0.0"
      ]
     },
     "execution_count": 8,
     "metadata": {},
     "output_type": "execute_result"
    }
   ],
   "source": [
    "df['keyword_sentiment'].median()"
   ]
  },
  {
   "cell_type": "code",
   "execution_count": 9,
   "id": "81d20de0",
   "metadata": {},
   "outputs": [
    {
     "data": {
      "text/plain": [
       "0.3091805416748803"
      ]
     },
     "execution_count": 9,
     "metadata": {},
     "output_type": "execute_result"
    }
   ],
   "source": [
    "df['keyword_sentiment'].std()"
   ]
  },
  {
   "cell_type": "markdown",
   "id": "9aa5d528",
   "metadata": {},
   "source": [
    "# Examine the text for some of the highest and lowest sentiment scores\n",
    "\n",
    "Here, we can see that the lowest sentiment score is -4 while the highest sentiment score is 2. The lowest sentiment score is further away from the mean which tells us that there are some very negative posts in this subreddit."
   ]
  },
  {
   "cell_type": "code",
   "execution_count": 10,
   "id": "e71b86bd",
   "metadata": {},
   "outputs": [
    {
     "data": {
      "text/html": [
       "<div>\n",
       "<style scoped>\n",
       "    .dataframe tbody tr th:only-of-type {\n",
       "        vertical-align: middle;\n",
       "    }\n",
       "\n",
       "    .dataframe tbody tr th {\n",
       "        vertical-align: top;\n",
       "    }\n",
       "\n",
       "    .dataframe thead th {\n",
       "        text-align: right;\n",
       "    }\n",
       "</style>\n",
       "<table border=\"1\" class=\"dataframe\">\n",
       "  <thead>\n",
       "    <tr style=\"text-align: right;\">\n",
       "      <th></th>\n",
       "      <th>title</th>\n",
       "      <th>keyword_sentiment</th>\n",
       "    </tr>\n",
       "  </thead>\n",
       "  <tbody>\n",
       "    <tr>\n",
       "      <th>491</th>\n",
       "      <td>wtf</td>\n",
       "      <td>-4.00</td>\n",
       "    </tr>\n",
       "    <tr>\n",
       "      <th>607</th>\n",
       "      <td>NYAMBAATAR SHOULD FUCKING DIE</td>\n",
       "      <td>-1.75</td>\n",
       "    </tr>\n",
       "    <tr>\n",
       "      <th>923</th>\n",
       "      <td>Don’t kill me</td>\n",
       "      <td>-1.00</td>\n",
       "    </tr>\n",
       "    <tr>\n",
       "      <th>84</th>\n",
       "      <td>homeless people</td>\n",
       "      <td>-1.00</td>\n",
       "    </tr>\n",
       "    <tr>\n",
       "      <th>617</th>\n",
       "      <td>Nyambaatar really fucked up</td>\n",
       "      <td>-1.00</td>\n",
       "    </tr>\n",
       "    <tr>\n",
       "      <th>...</th>\n",
       "      <td>...</td>\n",
       "      <td>...</td>\n",
       "    </tr>\n",
       "    <tr>\n",
       "      <th>48</th>\n",
       "      <td>Popular Opinion</td>\n",
       "      <td>1.50</td>\n",
       "    </tr>\n",
       "    <tr>\n",
       "      <th>484</th>\n",
       "      <td>helping</td>\n",
       "      <td>2.00</td>\n",
       "    </tr>\n",
       "    <tr>\n",
       "      <th>888</th>\n",
       "      <td>Funny picture</td>\n",
       "      <td>2.00</td>\n",
       "    </tr>\n",
       "    <tr>\n",
       "      <th>1</th>\n",
       "      <td>Help</td>\n",
       "      <td>2.00</td>\n",
       "    </tr>\n",
       "    <tr>\n",
       "      <th>910</th>\n",
       "      <td>help</td>\n",
       "      <td>2.00</td>\n",
       "    </tr>\n",
       "  </tbody>\n",
       "</table>\n",
       "<p>956 rows × 2 columns</p>\n",
       "</div>"
      ],
      "text/plain": [
       "                             title  keyword_sentiment\n",
       "491                            wtf              -4.00\n",
       "607  NYAMBAATAR SHOULD FUCKING DIE              -1.75\n",
       "923                  Don’t kill me              -1.00\n",
       "84                 homeless people              -1.00\n",
       "617    Nyambaatar really fucked up              -1.00\n",
       "..                             ...                ...\n",
       "48                 Popular Opinion               1.50\n",
       "484                        helping               2.00\n",
       "888                  Funny picture               2.00\n",
       "1                            Help                2.00\n",
       "910                           help               2.00\n",
       "\n",
       "[956 rows x 2 columns]"
      ]
     },
     "execution_count": 10,
     "metadata": {},
     "output_type": "execute_result"
    }
   ],
   "source": [
    "df.sort_values(by='keyword_sentiment')[['title', 'keyword_sentiment']]"
   ]
  },
  {
   "cell_type": "code",
   "execution_count": 11,
   "id": "9753a26a",
   "metadata": {},
   "outputs": [
    {
     "data": {
      "text/plain": [
       "['wtf',\n",
       " 'NYAMBAATAR SHOULD FUCKING DIE',\n",
       " 'Don’t kill me',\n",
       " 'homeless people',\n",
       " 'Nyambaatar really fucked up',\n",
       " 'my biggest fucking enemy this winter',\n",
       " 'Visa problems',\n",
       " 'I Hate Mongolians',\n",
       " 'Let’s stop this madness pls',\n",
       " 'Alexei Nalavny has died']"
      ]
     },
     "execution_count": 11,
     "metadata": {},
     "output_type": "execute_result"
    }
   ],
   "source": [
    "df.sort_values(by='keyword_sentiment')['title'].to_list()[:10]"
   ]
  },
  {
   "cell_type": "code",
   "execution_count": 12,
   "id": "b6e4d372",
   "metadata": {},
   "outputs": [
    {
     "data": {
      "text/plain": [
       "['help',\n",
       " 'helping',\n",
       " 'Funny picture',\n",
       " 'Help ',\n",
       " 'Popular Opinion',\n",
       " 'Good dentist? ',\n",
       " 'HELP ME',\n",
       " 'Translation help',\n",
       " 'I love mongolia',\n",
       " 'Found him hahaha']"
      ]
     },
     "execution_count": 12,
     "metadata": {},
     "output_type": "execute_result"
    }
   ],
   "source": [
    "df.sort_values(by='keyword_sentiment', ascending=False)['title'].to_list()[:10]"
   ]
  },
  {
   "cell_type": "markdown",
   "id": "4a6561d6",
   "metadata": {},
   "source": [
    "# Extract the sentiment scores of the titles of the posts using TextBlob\n",
    "\n",
    "Next, we use a python package called TextBlob to analyze sentiment scores. Using Textblob, we can find the polarity (-1 to =1) and subjectivity (0 to 1, objective to subjective) of a string. For example, we can see this sentence below is rated fully subjective and has a positive sentiment."
   ]
  },
  {
   "cell_type": "code",
   "execution_count": 16,
   "id": "7004cc20",
   "metadata": {},
   "outputs": [
    {
     "data": {
      "text/plain": [
       "Sentiment(polarity=0.85, subjectivity=1.0)"
      ]
     },
     "execution_count": 16,
     "metadata": {},
     "output_type": "execute_result"
    }
   ],
   "source": [
    "from textblob import TextBlob\n",
    "\n",
    "tb = TextBlob(\"April snowstorms make for some beautiful pictures...\")\n",
    "tb.sentiment"
   ]
  },
  {
   "cell_type": "markdown",
   "id": "3ac5d40c",
   "metadata": {},
   "source": [
    "We apply textblob to the whole dataframe rows like this"
   ]
  },
  {
   "cell_type": "code",
   "execution_count": 17,
   "id": "1a1e199e",
   "metadata": {},
   "outputs": [],
   "source": [
    "def get_tb_sentiment(text):\n",
    "    tb = TextBlob(text)\n",
    "    return tb.sentiment[0]\n",
    "\n",
    "df['tb_sentiment'] = df['title'].apply(get_tb_sentiment)"
   ]
  },
  {
   "cell_type": "markdown",
   "id": "a5a722dc",
   "metadata": {},
   "source": [
    "# Plot a histogram of the sentiment scores\n",
    "\n",
    "The histogram looks similar to the one using keyword sentiment analysis method skewed slightly towards the positive sentiment."
   ]
  },
  {
   "cell_type": "code",
   "execution_count": 19,
   "id": "80d30cd7",
   "metadata": {},
   "outputs": [
    {
     "data": {
      "text/plain": [
       "<Axes: ylabel='Frequency'>"
      ]
     },
     "execution_count": 19,
     "metadata": {},
     "output_type": "execute_result"
    },
    {
     "data": {
      "image/png": "[encoded data removed]",
      "text/plain": [
       "<Figure size 640x480 with 1 Axes>"
      ]
     },
     "metadata": {},
     "output_type": "display_data"
    }
   ],
   "source": [
    "df['tb_sentiment'].plot.hist(bins=30)"
   ]
  },
  {
   "cell_type": "markdown",
   "id": "a2324fb2",
   "metadata": {},
   "source": [
    "# Look at descriptive statistics of the sentiment scores\n",
    "\n",
    "The descriptive statistics look almost the same as the statistics of the keyword method. This further enforces that the titles have mostly neutral sentiment. Here, the standard deviation is fairly smaller than the deviation of the keyword method which makes sense because the polarity score of textblob has a range between -1 and 1."
   ]
  },
  {
   "cell_type": "code",
   "execution_count": 20,
   "id": "6667c967",
   "metadata": {},
   "outputs": [
    {
     "data": {
      "text/plain": [
       "0.05828896421502332"
      ]
     },
     "execution_count": 20,
     "metadata": {},
     "output_type": "execute_result"
    }
   ],
   "source": [
    "df['tb_sentiment'].mean()"
   ]
  },
  {
   "cell_type": "code",
   "execution_count": 21,
   "id": "2344a43b",
   "metadata": {},
   "outputs": [
    {
     "data": {
      "text/plain": [
       "0.0"
      ]
     },
     "execution_count": 21,
     "metadata": {},
     "output_type": "execute_result"
    }
   ],
   "source": [
    "df['tb_sentiment'].median()"
   ]
  },
  {
   "cell_type": "code",
   "execution_count": 22,
   "id": "f6647447",
   "metadata": {},
   "outputs": [
    {
     "data": {
      "text/plain": [
       "0.24284689058572728"
      ]
     },
     "execution_count": 22,
     "metadata": {},
     "output_type": "execute_result"
    }
   ],
   "source": [
    "df['tb_sentiment'].std()"
   ]
  },
  {
   "cell_type": "markdown",
   "id": "7c2ca977",
   "metadata": {},
   "source": [
    "# Examine the text for some of the highest and lowest sentiment scores"
   ]
  },
  {
   "cell_type": "code",
   "execution_count": 44,
   "id": "8e125d24",
   "metadata": {},
   "outputs": [
    {
     "data": {
      "text/html": [
       "<div>\n",
       "<style scoped>\n",
       "    .dataframe tbody tr th:only-of-type {\n",
       "        vertical-align: middle;\n",
       "    }\n",
       "\n",
       "    .dataframe tbody tr th {\n",
       "        vertical-align: top;\n",
       "    }\n",
       "\n",
       "    .dataframe thead th {\n",
       "        text-align: right;\n",
       "    }\n",
       "</style>\n",
       "<table border=\"1\" class=\"dataframe\">\n",
       "  <thead>\n",
       "    <tr style=\"text-align: right;\">\n",
       "      <th></th>\n",
       "      <th>title</th>\n",
       "      <th>tb_sentiment</th>\n",
       "    </tr>\n",
       "  </thead>\n",
       "  <tbody>\n",
       "    <tr>\n",
       "      <th>476</th>\n",
       "      <td>CMV: Geographically and geopolitically speakin...</td>\n",
       "      <td>-1.0</td>\n",
       "    </tr>\n",
       "    <tr>\n",
       "      <th>177</th>\n",
       "      <td>Are there any Sperm donors in Mongolia? seriou...</td>\n",
       "      <td>-1.0</td>\n",
       "    </tr>\n",
       "    <tr>\n",
       "      <th>548</th>\n",
       "      <td>Horrifying</td>\n",
       "      <td>-0.9</td>\n",
       "    </tr>\n",
       "    <tr>\n",
       "      <th>779</th>\n",
       "      <td>Make me hate these college prep academies</td>\n",
       "      <td>-0.8</td>\n",
       "    </tr>\n",
       "    <tr>\n",
       "      <th>714</th>\n",
       "      <td>I Hate Mongolians</td>\n",
       "      <td>-0.8</td>\n",
       "    </tr>\n",
       "    <tr>\n",
       "      <th>...</th>\n",
       "      <td>...</td>\n",
       "      <td>...</td>\n",
       "    </tr>\n",
       "    <tr>\n",
       "      <th>38</th>\n",
       "      <td>Happy Mongolian Patriots' Day!</td>\n",
       "      <td>1.0</td>\n",
       "    </tr>\n",
       "    <tr>\n",
       "      <th>459</th>\n",
       "      <td>What is the best president Mongolia had to thi...</td>\n",
       "      <td>1.0</td>\n",
       "    </tr>\n",
       "    <tr>\n",
       "      <th>655</th>\n",
       "      <td>Hey guys, if you have the time, please answer ...</td>\n",
       "      <td>1.0</td>\n",
       "    </tr>\n",
       "    <tr>\n",
       "      <th>278</th>\n",
       "      <td>Which Water Filtration System is the Best in M...</td>\n",
       "      <td>1.0</td>\n",
       "    </tr>\n",
       "    <tr>\n",
       "      <th>405</th>\n",
       "      <td>Best Buuz Recipe</td>\n",
       "      <td>1.0</td>\n",
       "    </tr>\n",
       "  </tbody>\n",
       "</table>\n",
       "<p>956 rows × 2 columns</p>\n",
       "</div>"
      ],
      "text/plain": [
       "                                                 title  tb_sentiment\n",
       "476  CMV: Geographically and geopolitically speakin...          -1.0\n",
       "177  Are there any Sperm donors in Mongolia? seriou...          -1.0\n",
       "548                                         Horrifying          -0.9\n",
       "779          Make me hate these college prep academies          -0.8\n",
       "714                                  I Hate Mongolians          -0.8\n",
       "..                                                 ...           ...\n",
       "38                      Happy Mongolian Patriots' Day!           1.0\n",
       "459  What is the best president Mongolia had to thi...           1.0\n",
       "655  Hey guys, if you have the time, please answer ...           1.0\n",
       "278  Which Water Filtration System is the Best in M...           1.0\n",
       "405                                   Best Buuz Recipe           1.0\n",
       "\n",
       "[956 rows x 2 columns]"
      ]
     },
     "execution_count": 44,
     "metadata": {},
     "output_type": "execute_result"
    }
   ],
   "source": [
    "df.sort_values(by='tb_sentiment')[['title', 'tb_sentiment']]"
   ]
  },
  {
   "cell_type": "markdown",
   "id": "099d09bb",
   "metadata": {},
   "source": [
    "# Extract the sentiment scores of the titles of the posts using Vader\n",
    "\n",
    "Finally we use Vader. Vader provides a breakdown of the negative, positive, neutral scores, and an overall score called 'compound'. We can simply use the 'compound' score as our overall sentiment score."
   ]
  },
  {
   "cell_type": "code",
   "execution_count": 24,
   "id": "638d6d84",
   "metadata": {},
   "outputs": [
    {
     "data": {
      "text/plain": [
       "{'neg': 0.0, 'neu': 0.606, 'pos': 0.394, 'compound': 0.5994}"
      ]
     },
     "execution_count": 24,
     "metadata": {},
     "output_type": "execute_result"
    }
   ],
   "source": [
    "from vaderSentiment.vaderSentiment import SentimentIntensityAnalyzer\n",
    "\n",
    "analyzer = SentimentIntensityAnalyzer()\n",
    "analyzer.polarity_scores(\"April snowstorms make for some beautiful pictures...\")"
   ]
  },
  {
   "cell_type": "code",
   "execution_count": 25,
   "id": "cd040301",
   "metadata": {},
   "outputs": [
    {
     "data": {
      "text/plain": [
       "0.5994"
      ]
     },
     "execution_count": 25,
     "metadata": {},
     "output_type": "execute_result"
    }
   ],
   "source": [
    "analyzer.polarity_scores(\"April snowstorms make for some beautiful pictures...\")['compound']"
   ]
  },
  {
   "cell_type": "markdown",
   "id": "296e427c",
   "metadata": {},
   "source": [
    "Here we apply our get_vader_sentiment function to each row of our datafram title column."
   ]
  },
  {
   "cell_type": "code",
   "execution_count": 26,
   "id": "8e14687e",
   "metadata": {},
   "outputs": [],
   "source": [
    "def get_vader_sentiment(text):\n",
    "    analyzer = SentimentIntensityAnalyzer()\n",
    "    return analyzer.polarity_scores(text)['compound']\n",
    "\n",
    "df['vader_sentiment'] = df['title'].apply(get_vader_sentiment)"
   ]
  },
  {
   "cell_type": "markdown",
   "id": "a88e7e36",
   "metadata": {},
   "source": [
    "# Plot a histogram of the sentiment scores\n"
   ]
  },
  {
   "cell_type": "code",
   "execution_count": 29,
   "id": "072ebde0",
   "metadata": {},
   "outputs": [
    {
     "data": {
      "text/plain": [
       "<Axes: ylabel='Frequency'>"
      ]
     },
     "execution_count": 29,
     "metadata": {},
     "output_type": "execute_result"
    },
    {
     "data": {
      "image/png": "[encoded data removed]",
      "text/plain": [
       "<Figure size 640x480 with 1 Axes>"
      ]
     },
     "metadata": {},
     "output_type": "display_data"
    }
   ],
   "source": [
    "df['vader_sentiment'].plot.hist(bins=30)"
   ]
  },
  {
   "cell_type": "markdown",
   "id": "83fa71fd",
   "metadata": {},
   "source": [
    "# Look at descriptive statistics of the sentiment scores\n",
    "\n",
    "both the historgram and the descriptive statistics tell the same story as other methods."
   ]
  },
  {
   "cell_type": "code",
   "execution_count": 30,
   "id": "402cfd2c",
   "metadata": {},
   "outputs": [
    {
     "data": {
      "text/plain": [
       "0.05788033472803347"
      ]
     },
     "execution_count": 30,
     "metadata": {},
     "output_type": "execute_result"
    }
   ],
   "source": [
    "df['vader_sentiment'].mean()"
   ]
  },
  {
   "cell_type": "code",
   "execution_count": 31,
   "id": "7f392d06",
   "metadata": {},
   "outputs": [
    {
     "data": {
      "text/plain": [
       "0.0"
      ]
     },
     "execution_count": 31,
     "metadata": {},
     "output_type": "execute_result"
    }
   ],
   "source": [
    "df['vader_sentiment'].median()"
   ]
  },
  {
   "cell_type": "code",
   "execution_count": 32,
   "id": "115605d9",
   "metadata": {},
   "outputs": [
    {
     "data": {
      "text/plain": [
       "0.3090389132045557"
      ]
     },
     "execution_count": 32,
     "metadata": {},
     "output_type": "execute_result"
    }
   ],
   "source": [
    "df['vader_sentiment'].std()"
   ]
  },
  {
   "cell_type": "markdown",
   "id": "767c7923",
   "metadata": {},
   "source": [
    "# Examine the text for some of the highest and lowest sentiment scores\n",
    "\n",
    "The lowest score is -0.92 while the highest is 0.97. Interestingly, sentiment analysis using vader doesn't have a full value of -1 or 1. This means the analysis is not 100% certain like the other analysis methods. This difference arises from Vader's ability to analyze the overral compound of a sentence, not just keywords."
   ]
  },
  {
   "cell_type": "code",
   "execution_count": 47,
   "id": "206efce2",
   "metadata": {},
   "outputs": [
    {
     "data": {
      "text/html": [
       "<div>\n",
       "<style scoped>\n",
       "    .dataframe tbody tr th:only-of-type {\n",
       "        vertical-align: middle;\n",
       "    }\n",
       "\n",
       "    .dataframe tbody tr th {\n",
       "        vertical-align: top;\n",
       "    }\n",
       "\n",
       "    .dataframe thead th {\n",
       "        text-align: right;\n",
       "    }\n",
       "</style>\n",
       "<table border=\"1\" class=\"dataframe\">\n",
       "  <thead>\n",
       "    <tr style=\"text-align: right;\">\n",
       "      <th></th>\n",
       "      <th>vader_sentiment</th>\n",
       "    </tr>\n",
       "  </thead>\n",
       "  <tbody>\n",
       "    <tr>\n",
       "      <th>611</th>\n",
       "      <td>-0.9198</td>\n",
       "    </tr>\n",
       "    <tr>\n",
       "      <th>453</th>\n",
       "      <td>-0.8343</td>\n",
       "    </tr>\n",
       "    <tr>\n",
       "      <th>186</th>\n",
       "      <td>-0.8316</td>\n",
       "    </tr>\n",
       "    <tr>\n",
       "      <th>223</th>\n",
       "      <td>-0.8126</td>\n",
       "    </tr>\n",
       "    <tr>\n",
       "      <th>860</th>\n",
       "      <td>-0.7906</td>\n",
       "    </tr>\n",
       "    <tr>\n",
       "      <th>...</th>\n",
       "      <td>...</td>\n",
       "    </tr>\n",
       "    <tr>\n",
       "      <th>225</th>\n",
       "      <td>0.9054</td>\n",
       "    </tr>\n",
       "    <tr>\n",
       "      <th>276</th>\n",
       "      <td>0.9136</td>\n",
       "    </tr>\n",
       "    <tr>\n",
       "      <th>317</th>\n",
       "      <td>0.9259</td>\n",
       "    </tr>\n",
       "    <tr>\n",
       "      <th>372</th>\n",
       "      <td>0.9312</td>\n",
       "    </tr>\n",
       "    <tr>\n",
       "      <th>71</th>\n",
       "      <td>0.9678</td>\n",
       "    </tr>\n",
       "  </tbody>\n",
       "</table>\n",
       "<p>956 rows × 1 columns</p>\n",
       "</div>"
      ],
      "text/plain": [
       "     vader_sentiment\n",
       "611          -0.9198\n",
       "453          -0.8343\n",
       "186          -0.8316\n",
       "223          -0.8126\n",
       "860          -0.7906\n",
       "..               ...\n",
       "225           0.9054\n",
       "276           0.9136\n",
       "317           0.9259\n",
       "372           0.9312\n",
       "71            0.9678\n",
       "\n",
       "[956 rows x 1 columns]"
      ]
     },
     "execution_count": 47,
     "metadata": {},
     "output_type": "execute_result"
    }
   ],
   "source": [
    "df.sort_values(by='vader_sentiment')[['vader_sentiment']]"
   ]
  }
 ],
 "metadata": {
  "kernelspec": {
   "display_name": "Python 3 (ipykernel)",
   "language": "python",
   "name": "python3"
  },
  "language_info": {
   "codemirror_mode": {
    "name": "ipython",
    "version": 3
   },
   "file_extension": ".py",
   "mimetype": "text/x-python",
   "name": "python",
   "nbconvert_exporter": "python",
   "pygments_lexer": "ipython3",
   "version": "3.13.0"
  }
 },
 "nbformat": 4,
 "nbformat_minor": 5
}
