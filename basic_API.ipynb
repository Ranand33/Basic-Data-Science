{
 "cells": [
  {
   "cell_type": "code",
   "execution_count": 1,
   "id": "7cd4d491-6448-4941-827b-2c45dd55c5d7",
   "metadata": {},
   "outputs": [],
   "source": [
    "import requests"
   ]
  },
  {
   "cell_type": "code",
   "execution_count": 2,
   "id": "260cb395-1bf5-4520-b171-05cd79067bd2",
   "metadata": {},
   "outputs": [],
   "source": [
    "# Define the Bible verse we want to retrieve (John 3:16)\n",
    "book_chapter_verse = \"john 3:16\""
   ]
  },
  {
   "cell_type": "code",
   "execution_count": 3,
   "id": "0191fb07-f754-49df-af77-ed48ae8339be",
   "metadata": {},
   "outputs": [],
   "source": [
    "# API endpoint URL\n",
    "api_url = f\"https://bible-api.com/{book_chapter_verse}\""
   ]
  },
  {
   "cell_type": "code",
   "execution_count": 4,
   "id": "4edbadd1-69a9-4294-81f4-97c4298ece35",
   "metadata": {},
   "outputs": [],
   "source": [
    "# Send GET request to the Bible API\n",
    "response = requests.get(api_url)"
   ]
  },
  {
   "cell_type": "code",
   "execution_count": 9,
   "id": "65c955da-1d10-4ed9-afdd-e122a349499d",
   "metadata": {},
   "outputs": [
    {
     "name": "stdout",
     "output_type": "stream",
     "text": [
      "Reference: John 3:16\n",
      "Verse Text: \n",
      "For God so loved the world, that he gave his one and only Son, that whoever believes in him should not perish, but have eternal life.\n",
      "\n",
      "\n",
      "Translation: World English Bible (web)\n",
      "Translation Note: Public Domain\n"
     ]
    }
   ],
   "source": [
    "# Check if the request was successful\n",
    "if response.status_code == 200:\n",
    "    # Parse the response JSON\n",
    "    verse_data = response.json()\n",
    "        \n",
    "    # Extract relevant information\n",
    "    reference = verse_data.get('reference', 'N/A')\n",
    "    text = verse_data.get('text', 'N/A')\n",
    "    translation_id = verse_data.get('translation_id', 'N/A')\n",
    "    translation_name = verse_data.get('translation_name', 'N/A')\n",
    "    translation_note = verse_data.get('translation_note', 'N/A')\n",
    "    \n",
    "    # Display the extracted data\n",
    "    print(f\"Reference: {reference}\")\n",
    "    print(f\"Verse Text: {text}\")\n",
    "    print(f\"Translation: {translation_name} ({translation_id})\")\n",
    "    print(f\"Translation Note: {translation_note}\")\n",
    "else:\n",
    "    print(f\"Failed to retrieve verse. Status code: {response.status_code}\")"
   ]
  },
  {
   "cell_type": "code",
   "execution_count": 10,
   "id": "9d88495d-4c94-4c1b-8a5c-9af75b9ae887",
   "metadata": {},
   "outputs": [],
   "source": [
    "# Define the Wikipedia article title we want to retrieve\n",
    "page_title = \"Python (programming language)\""
   ]
  },
  {
   "cell_type": "code",
   "execution_count": 11,
   "id": "8b7cece1-a998-4d60-abc3-82a7ea8e85a6",
   "metadata": {},
   "outputs": [],
   "source": [
    "# Wikipedia API endpoint URL\n",
    "api_url = \"https://en.wikipedia.org/w/api.php\""
   ]
  },
  {
   "cell_type": "code",
   "execution_count": 12,
   "id": "20e469a2-7a48-4bbb-90d3-ec367492dbb8",
   "metadata": {},
   "outputs": [],
   "source": [
    "# Define the parameters for the API request\n",
    "params = {\n",
    "    \"action\": \"query\",       # Query action to retrieve data\n",
    "    \"format\": \"json\",        # Requesting JSON format\n",
    "    \"titles\": page_title,    # The article title\n",
    "    \"prop\": \"revisions\",     # We are interested in the content revisions of the page\n",
    "    \"rvprop\": \"content\"      # Get the content of the latest revision\n",
    "}"
   ]
  },
  {
   "cell_type": "code",
   "execution_count": 13,
   "id": "56239e71-f189-4347-8198-7cdcd546b40f",
   "metadata": {},
   "outputs": [],
   "source": [
    "# Send GET request to the Wikipedia API\n",
    "response = requests.get(api_url, params=params)"
   ]
  },
  {
   "cell_type": "code",
   "execution_count": 14,
   "id": "e4bad964-2e56-4040-9450-040d736bbf70",
   "metadata": {},
   "outputs": [
    {
     "name": "stdout",
     "output_type": "stream",
     "text": [
      "Page ID: 23862\n",
      "Title: Python (programming language)\n",
      "Content: {{Short description|General-purpose programming language}}\n",
      "{{Use dmy dates|date=November 2021}}\n",
      "{{Infobox programming language\n",
      "| logo = Python-logo-notext.svg\n",
      "| logo size = 121px\n",
      "| paradigm = [[Multi-paradigm]]: [[object-oriented]],<ref>{{Cite web|title=General Python FAQ – Python 3 documentation|url=https://docs.python.org/3/faq/general.html#what-is-python|access-date=2024-07-07|website=docs.python.org}}</ref> [[Procedural programming|procedural]] ([[Imperative programming|imperative]]), [[Func...\n"
     ]
    }
   ],
   "source": [
    "# Check if the request was successful\n",
    "if response.status_code == 200:\n",
    "    # Parse the response JSON\n",
    "    page_data = response.json()\n",
    "    \n",
    "    # Extract the 'pages' dictionary from the response\n",
    "    pages = page_data.get('query', {}).get('pages', {})\n",
    "    \n",
    "    # Loop through the pages dictionary\n",
    "    for page_id, page_info in pages.items():\n",
    "        title = page_info.get('title', 'N/A')\n",
    "        pageid = page_info.get('pageid', 'N/A')\n",
    "        revisions = page_info.get('revisions', [])\n",
    "        content = revisions[0].get('*', 'No content available') if revisions else 'No revisions available'\n",
    "        \n",
    "        # Display the extracted data\n",
    "        print(f\"Page ID: {pageid}\")\n",
    "        print(f\"Title: {title}\")\n",
    "        print(f\"Content: {content[:500]}...\")  # Display only the first 500 characters of content\n",
    "else:\n",
    "    print(f\"Failed to retrieve page. Status code: {response.status_code}\")"
   ]
  },
  {
   "cell_type": "code",
   "execution_count": 41,
   "id": "1502cfce-ad56-4b61-84f2-a6370e381291",
   "metadata": {},
   "outputs": [],
   "source": [
    "# API endpoint URL\n",
    "api_url = \"https://stoic.tekloon.net/stoic-quote\""
   ]
  },
  {
   "cell_type": "code",
   "execution_count": 42,
   "id": "3e1b471a-8e1c-411f-829f-9b144ca1880f",
   "metadata": {},
   "outputs": [],
   "source": [
    "# Send GET request to the Stoic Quotes API\n",
    "response = requests.get(api_url)"
   ]
  },
  {
   "cell_type": "code",
   "execution_count": 43,
   "id": "53fc21a5-ec8c-4e1f-b12d-add6f355dc72",
   "metadata": {},
   "outputs": [
    {
     "name": "stdout",
     "output_type": "stream",
     "text": [
      "Quote: \"Stoicism is about the domestication of emotions, not their elimination.\"\n",
      "Author: Nassim Nicholas Taleb\n"
     ]
    }
   ],
   "source": [
    "# Check if the request was successful\n",
    "if response.status_code == 200:\n",
    "    # Parse the JSON response\n",
    "    quote_data = response.json()\n",
    "    \n",
    "    # Extract the quote and author from the JSON data\n",
    "    quote = quote_data.get('data', {}).get('quote', {})\n",
    "    author = quote_data.get('data', {}).get('author', {})\n",
    "\n",
    "    # Display the quote and author\n",
    "    print(f\"Quote: \\\"{quote}\\\"\")\n",
    "    print(f\"Author: {author}\")\n",
    "else:\n",
    "    print(f\"Failed to retrieve quote. Status code: {response.status_code}\")"
   ]
  },
  {
   "cell_type": "code",
   "execution_count": null,
   "id": "392b5c14-bb43-49ad-a20e-52c327447d58",
   "metadata": {},
   "outputs": [],
   "source": []
  }
 ],
 "metadata": {
  "kernelspec": {
   "display_name": "Python 3 (ipykernel)",
   "language": "python",
   "name": "python3"
  },
  "language_info": {
   "codemirror_mode": {
    "name": "ipython",
    "version": 3
   },
   "file_extension": ".py",
   "mimetype": "text/x-python",
   "name": "python",
   "nbconvert_exporter": "python",
   "pygments_lexer": "ipython3",
   "version": "3.12.6"
  }
 },
 "nbformat": 4,
 "nbformat_minor": 5
}
